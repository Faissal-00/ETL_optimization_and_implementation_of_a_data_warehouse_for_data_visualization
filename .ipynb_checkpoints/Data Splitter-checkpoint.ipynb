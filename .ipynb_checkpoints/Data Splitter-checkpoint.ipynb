{
 "cells": [
  {
   "cell_type": "markdown",
   "id": "db71b57b",
   "metadata": {},
   "source": [
    "# Step 1: Loading data"
   ]
  },
  {
   "cell_type": "code",
   "execution_count": null,
   "id": "a7fb1597",
   "metadata": {},
   "outputs": [],
   "source": [
    "import pandas as pd\n",
    "import numpy as np"
   ]
  },
  {
   "cell_type": "code",
   "execution_count": 6,
   "id": "923720ef",
   "metadata": {
    "scrolled": false
   },
   "outputs": [
    {
     "data": {
      "text/html": [
       "<div>\n",
       "<style scoped>\n",
       "    .dataframe tbody tr th:only-of-type {\n",
       "        vertical-align: middle;\n",
       "    }\n",
       "\n",
       "    .dataframe tbody tr th {\n",
       "        vertical-align: top;\n",
       "    }\n",
       "\n",
       "    .dataframe thead th {\n",
       "        text-align: right;\n",
       "    }\n",
       "</style>\n",
       "<table border=\"1\" class=\"dataframe\">\n",
       "  <thead>\n",
       "    <tr style=\"text-align: right;\">\n",
       "      <th></th>\n",
       "      <th>ID</th>\n",
       "      <th>Name</th>\n",
       "      <th>Age</th>\n",
       "      <th>Gender</th>\n",
       "      <th>City</th>\n",
       "      <th>Country</th>\n",
       "      <th>CreditCard</th>\n",
       "      <th>FullAddress</th>\n",
       "      <th>UserSignUpDate</th>\n",
       "      <th>UserLastPurchaseDate</th>\n",
       "      <th>...</th>\n",
       "      <th>UserLastLoginDate</th>\n",
       "      <th>UserPurchaseFrequency</th>\n",
       "      <th>Product Name</th>\n",
       "      <th>Category</th>\n",
       "      <th>Subcategory</th>\n",
       "      <th>Price</th>\n",
       "      <th>Date_Purchase</th>\n",
       "      <th>Quantity</th>\n",
       "      <th>Rating</th>\n",
       "      <th>Comment</th>\n",
       "    </tr>\n",
       "  </thead>\n",
       "  <tbody>\n",
       "    <tr>\n",
       "      <th>0</th>\n",
       "      <td>0</td>\n",
       "      <td>Elizabeth Harris</td>\n",
       "      <td>42</td>\n",
       "      <td>F</td>\n",
       "      <td>Chungberg</td>\n",
       "      <td>Mismatched Country</td>\n",
       "      <td>2227218447017949</td>\n",
       "      <td>75874 Chad Mountain Suite 588, West Robertches...</td>\n",
       "      <td>2021-10-31</td>\n",
       "      <td>2022-09-10</td>\n",
       "      <td>...</td>\n",
       "      <td>2022-10-23</td>\n",
       "      <td>Yearly</td>\n",
       "      <td>NaN</td>\n",
       "      <td>Furniture</td>\n",
       "      <td>Chair</td>\n",
       "      <td>-45</td>\n",
       "      <td>2022-11-16</td>\n",
       "      <td>-1</td>\n",
       "      <td>5</td>\n",
       "      <td>Decade cold it town people.</td>\n",
       "    </tr>\n",
       "    <tr>\n",
       "      <th>1</th>\n",
       "      <td>1</td>\n",
       "      <td>Michele Best</td>\n",
       "      <td>72</td>\n",
       "      <td>M</td>\n",
       "      <td>Port Sergio</td>\n",
       "      <td>Egypt</td>\n",
       "      <td>2556439104848944</td>\n",
       "      <td>4039 David Fords Apt. 678, Lake Christopherber...</td>\n",
       "      <td>2023-03-25</td>\n",
       "      <td>2023-05-06</td>\n",
       "      <td>...</td>\n",
       "      <td>2023-05-15</td>\n",
       "      <td>Yearly</td>\n",
       "      <td>FreshVegetables</td>\n",
       "      <td>Grocery</td>\n",
       "      <td>Vegetables</td>\n",
       "      <td>-79</td>\n",
       "      <td>2023-03-26</td>\n",
       "      <td>1</td>\n",
       "      <td>1</td>\n",
       "      <td>Really development floor of.</td>\n",
       "    </tr>\n",
       "    <tr>\n",
       "      <th>2</th>\n",
       "      <td>2</td>\n",
       "      <td>Jake Taylor</td>\n",
       "      <td>-5</td>\n",
       "      <td>M</td>\n",
       "      <td>Evansmouth</td>\n",
       "      <td>Czech Republic</td>\n",
       "      <td>2273966520760545</td>\n",
       "      <td>748 Mendez Ridges Apt. 994, Lake Jonathanton, ...</td>\n",
       "      <td>2021-09-14</td>\n",
       "      <td>2023-04-21</td>\n",
       "      <td>...</td>\n",
       "      <td>2023-07-20</td>\n",
       "      <td>Yearly</td>\n",
       "      <td>TastyBeverages</td>\n",
       "      <td>Grocery</td>\n",
       "      <td>Beverages</td>\n",
       "      <td>-1</td>\n",
       "      <td>2023-07-12</td>\n",
       "      <td>10</td>\n",
       "      <td>4</td>\n",
       "      <td>Cut television step increase structure serve u...</td>\n",
       "    </tr>\n",
       "    <tr>\n",
       "      <th>3</th>\n",
       "      <td>3</td>\n",
       "      <td>Christian Curry MD</td>\n",
       "      <td>64</td>\n",
       "      <td>M</td>\n",
       "      <td>Jensenfurt</td>\n",
       "      <td>Brunei Darussalam</td>\n",
       "      <td>2238348117052863</td>\n",
       "      <td>735 Jones Mews, New Ginafurt, AR 99785</td>\n",
       "      <td>2022-03-10</td>\n",
       "      <td>2023-01-24</td>\n",
       "      <td>...</td>\n",
       "      <td>2023-04-25</td>\n",
       "      <td>Yearly</td>\n",
       "      <td>ComfortChair</td>\n",
       "      <td>Furniture</td>\n",
       "      <td>Chair</td>\n",
       "      <td>770</td>\n",
       "      <td>2023-06-26</td>\n",
       "      <td>0</td>\n",
       "      <td>0</td>\n",
       "      <td>Popular outside industry listen.</td>\n",
       "    </tr>\n",
       "    <tr>\n",
       "      <th>4</th>\n",
       "      <td>4</td>\n",
       "      <td>Craig Jones</td>\n",
       "      <td>92</td>\n",
       "      <td>M</td>\n",
       "      <td>East Jerry</td>\n",
       "      <td>Wallis and Futuna</td>\n",
       "      <td>2225629684025639</td>\n",
       "      <td>95949 Jill Circle, Tuckerchester, VI 49522</td>\n",
       "      <td>2023-05-31</td>\n",
       "      <td>2023-06-26</td>\n",
       "      <td>...</td>\n",
       "      <td>2023-06-30</td>\n",
       "      <td>Yearly</td>\n",
       "      <td>FictionTales</td>\n",
       "      <td>Books</td>\n",
       "      <td>Fiction</td>\n",
       "      <td>994</td>\n",
       "      <td>2021-05-08</td>\n",
       "      <td>-1</td>\n",
       "      <td>5</td>\n",
       "      <td>Almost account important charge oil style anyone.</td>\n",
       "    </tr>\n",
       "  </tbody>\n",
       "</table>\n",
       "<p>5 rows × 25 columns</p>\n",
       "</div>"
      ],
      "text/plain": [
       "   ID                Name  Age Gender         City             Country   \n",
       "0   0    Elizabeth Harris   42      F    Chungberg  Mismatched Country  \\\n",
       "1   1        Michele Best   72      M  Port Sergio               Egypt   \n",
       "2   2         Jake Taylor   -5      M   Evansmouth      Czech Republic   \n",
       "3   3  Christian Curry MD   64      M   Jensenfurt   Brunei Darussalam   \n",
       "4   4         Craig Jones   92      M   East Jerry   Wallis and Futuna   \n",
       "\n",
       "         CreditCard                                        FullAddress   \n",
       "0  2227218447017949  75874 Chad Mountain Suite 588, West Robertches...  \\\n",
       "1  2556439104848944  4039 David Fords Apt. 678, Lake Christopherber...   \n",
       "2  2273966520760545  748 Mendez Ridges Apt. 994, Lake Jonathanton, ...   \n",
       "3  2238348117052863             735 Jones Mews, New Ginafurt, AR 99785   \n",
       "4  2225629684025639         95949 Jill Circle, Tuckerchester, VI 49522   \n",
       "\n",
       "  UserSignUpDate UserLastPurchaseDate  ... UserLastLoginDate   \n",
       "0     2021-10-31           2022-09-10  ...        2022-10-23  \\\n",
       "1     2023-03-25           2023-05-06  ...        2023-05-15   \n",
       "2     2021-09-14           2023-04-21  ...        2023-07-20   \n",
       "3     2022-03-10           2023-01-24  ...        2023-04-25   \n",
       "4     2023-05-31           2023-06-26  ...        2023-06-30   \n",
       "\n",
       "   UserPurchaseFrequency     Product Name   Category Subcategory Price   \n",
       "0                 Yearly              NaN  Furniture       Chair   -45  \\\n",
       "1                 Yearly  FreshVegetables    Grocery  Vegetables   -79   \n",
       "2                 Yearly   TastyBeverages    Grocery   Beverages    -1   \n",
       "3                 Yearly     ComfortChair  Furniture       Chair   770   \n",
       "4                 Yearly     FictionTales      Books     Fiction   994   \n",
       "\n",
       "  Date_Purchase Quantity Rating   \n",
       "0    2022-11-16       -1      5  \\\n",
       "1    2023-03-26        1      1   \n",
       "2    2023-07-12       10      4   \n",
       "3    2023-06-26        0      0   \n",
       "4    2021-05-08       -1      5   \n",
       "\n",
       "                                             Comment  \n",
       "0                        Decade cold it town people.  \n",
       "1                       Really development floor of.  \n",
       "2  Cut television step increase structure serve u...  \n",
       "3                   Popular outside industry listen.  \n",
       "4  Almost account important charge oil style anyone.  \n",
       "\n",
       "[5 rows x 25 columns]"
      ]
     },
     "execution_count": 6,
     "metadata": {},
     "output_type": "execute_result"
    }
   ],
   "source": [
    "df=pd.read_csv('ecommerce_data.csv')\n",
    "df.head()"
   ]
  },
  {
   "cell_type": "code",
   "execution_count": 7,
   "id": "9537d378",
   "metadata": {},
   "outputs": [
    {
     "data": {
      "text/plain": [
       "(1500, 25)"
      ]
     },
     "execution_count": 7,
     "metadata": {},
     "output_type": "execute_result"
    }
   ],
   "source": [
    "df.shape"
   ]
  },
  {
   "cell_type": "code",
   "execution_count": 8,
   "id": "7ba838cf",
   "metadata": {},
   "outputs": [
    {
     "data": {
      "text/plain": [
       "Index(['ID', 'Name', 'Age', 'Gender', 'City', 'Country', 'CreditCard',\n",
       "       'FullAddress', 'UserSignUpDate', 'UserLastPurchaseDate', 'UserStatus',\n",
       "       'UserTotalPurchases', 'UserSegment', 'UserLocation', 'UserSourceType',\n",
       "       'UserLastLoginDate', 'UserPurchaseFrequency', 'Product Name',\n",
       "       'Category', 'Subcategory', 'Price', 'Date_Purchase', 'Quantity',\n",
       "       'Rating', 'Comment'],\n",
       "      dtype='object')"
      ]
     },
     "execution_count": 8,
     "metadata": {},
     "output_type": "execute_result"
    }
   ],
   "source": [
    "df.columns"
   ]
  },
  {
   "cell_type": "code",
   "execution_count": 9,
   "id": "4aa2f8e2",
   "metadata": {},
   "outputs": [],
   "source": [
    "# Rename the columns\n",
    "df.rename(columns={'Product Name': 'ProductName'}, inplace=True)\n",
    "df.rename(columns={'Date_Purchase': 'DatePurchase'}, inplace=True)"
   ]
  },
  {
   "cell_type": "code",
   "execution_count": 10,
   "id": "9a4a948b",
   "metadata": {
    "scrolled": true
   },
   "outputs": [
    {
     "data": {
      "text/plain": [
       "0       75874 Chad Mountain Suite 588, West Robertches...\n",
       "1       4039 David Fords Apt. 678, Lake Christopherber...\n",
       "2       748 Mendez Ridges Apt. 994, Lake Jonathanton, ...\n",
       "3                  735 Jones Mews, New Ginafurt, AR 99785\n",
       "4              95949 Jill Circle, Tuckerchester, VI 49522\n",
       "                              ...                        \n",
       "1495                            USCGC Olsen, FPO AP 48988\n",
       "1496        558 Clark Wall Suite 927, Lake Rose, HI 79553\n",
       "1497            20345 Ashley Pass, Perkinsmouth, NE 39765\n",
       "1498             933 Harris Points, Melanieberg, OH 20203\n",
       "1499             474 Javier Landing, Davisville, IN 07973\n",
       "Name: FullAddress, Length: 1500, dtype: object"
      ]
     },
     "execution_count": 10,
     "metadata": {},
     "output_type": "execute_result"
    }
   ],
   "source": [
    "df['FullAddress']"
   ]
  },
  {
   "cell_type": "code",
   "execution_count": 11,
   "id": "b932e1a2",
   "metadata": {},
   "outputs": [],
   "source": [
    "df['FullAddress'] = df['FullAddress'].astype(str)\n",
    "\n",
    "df['FullAddress'] = df['FullAddress'].str.replace(',', ';')"
   ]
  },
  {
   "cell_type": "code",
   "execution_count": 12,
   "id": "f00791f7",
   "metadata": {},
   "outputs": [
    {
     "data": {
      "text/plain": [
       "0       75874 Chad Mountain Suite 588; West Robertches...\n",
       "1       4039 David Fords Apt. 678; Lake Christopherber...\n",
       "2       748 Mendez Ridges Apt. 994; Lake Jonathanton; ...\n",
       "3                  735 Jones Mews; New Ginafurt; AR 99785\n",
       "4              95949 Jill Circle; Tuckerchester; VI 49522\n",
       "                              ...                        \n",
       "1495                            USCGC Olsen; FPO AP 48988\n",
       "1496        558 Clark Wall Suite 927; Lake Rose; HI 79553\n",
       "1497            20345 Ashley Pass; Perkinsmouth; NE 39765\n",
       "1498             933 Harris Points; Melanieberg; OH 20203\n",
       "1499             474 Javier Landing; Davisville; IN 07973\n",
       "Name: FullAddress, Length: 1500, dtype: object"
      ]
     },
     "execution_count": 12,
     "metadata": {},
     "output_type": "execute_result"
    }
   ],
   "source": [
    "df['FullAddress']"
   ]
  },
  {
   "cell_type": "markdown",
   "id": "f6322555",
   "metadata": {},
   "source": [
    "# Step 2: Shuffle and Split the Data"
   ]
  },
  {
   "cell_type": "code",
   "execution_count": 13,
   "id": "f7a849ce",
   "metadata": {},
   "outputs": [],
   "source": [
    "# Shuffle the data\n",
    "df_shuffled = df.sample(frac=1, random_state=42)\n",
    "\n",
    "# Calculate the number of rows for each destination\n",
    "total_rows = df_shuffled.shape[0]\n",
    "json_rows = int(0.5 * total_rows)\n",
    "csv_rows = total_rows - json_rows\n",
    "\n",
    "# Split the data into JSON and CSV parts\n",
    "df_json = df_shuffled.iloc[:json_rows]\n",
    "df_csv = df_shuffled.iloc[json_rows:]"
   ]
  },
  {
   "cell_type": "markdown",
   "id": "d1e669b8",
   "metadata": {},
   "source": [
    "# Save the JSON and CSV Data"
   ]
  },
  {
   "cell_type": "code",
   "execution_count": 14,
   "id": "014ea52e",
   "metadata": {},
   "outputs": [],
   "source": [
    "# Save the splits to their respective destinations (JSON, database, and CSV)\n",
    "df_json.to_json('data.json', orient='records')\n",
    "df_csv.to_csv('data.csv', index=False)"
   ]
  }
 ],
 "metadata": {
  "kernelspec": {
   "display_name": "Python 3 (ipykernel)",
   "language": "python",
   "name": "python3"
  },
  "language_info": {
   "codemirror_mode": {
    "name": "ipython",
    "version": 3
   },
   "file_extension": ".py",
   "mimetype": "text/x-python",
   "name": "python",
   "nbconvert_exporter": "python",
   "pygments_lexer": "ipython3",
   "version": "3.11.3"
  },
  "vp": {
   "vp_config_version": "1.0.0",
   "vp_menu_width": 273,
   "vp_note_display": false,
   "vp_note_width": 0,
   "vp_position": {
    "width": 278
   },
   "vp_section_display": false,
   "vp_signature": "VisualPython"
  }
 },
 "nbformat": 4,
 "nbformat_minor": 5
}
