{
 "cells": [
  {
   "cell_type": "code",
   "execution_count": 2,
   "id": "fecd08ee",
   "metadata": {},
   "outputs": [],
   "source": [
    "from cryptography.hazmat.primitives import padding\n",
    "from cryptography.hazmat.primitives.ciphers import Cipher, algorithms, modes\n",
    "from cryptography.hazmat.primitives.kdf.pbkdf2 import PBKDF2HMAC\n",
    "from cryptography.hazmat.primitives import hashes\n",
    "from cryptography.hazmat.primitives import hmac\n",
    "from base64 import urlsafe_b64encode, urlsafe_b64decode\n",
    "\n",
    "# Input values (change these to match your actual values)\n",
    "name = row5.Name\n",
    "creditCard = row5.CreditCard\n",
    "\n",
    "# Encryption key\n",
    "encryption_key = b'r3aLly$Tr0ngK3y#f0rEncryp7!0n'  # Convert to bytes\n",
    "\n",
    "# Initialize the encryption algorithm\n",
    "salt = b'salt_for_encryption'  # Change this to a unique salt\n",
    "iterations = 100000  # Number of iterations\n",
    "kdf = PBKDF2HMAC(\n",
    "    algorithm=hashes.SHA256(),\n",
    "    iterations=iterations,\n",
    "    salt=salt,\n",
    "    length=32  # Length of the derived key\n",
    ")\n",
    "key = urlsafe_b64encode(kdf.derive(encryption_key))\n",
    "cipher = Cipher(algorithms.AES(key), modes.ECB())\n",
    "\n",
    "# Function to perform encryption\n",
    "def encrypt(value, cipher):\n",
    "    padder = padding.PKCS7(128).padder()\n",
    "    padded_data = padder.update(value.encode()) + padder.finalize()\n",
    "    encryptor = cipher.encryptor()\n",
    "    encrypted_data = encryptor.update(padded_data) + encryptor.finalize()\n",
    "    return urlsafe_b64encode(encrypted_data).decode()\n",
    "\n",
    "# Perform encryption\n",
    "encrypted_name = encrypt(name, cipher)\n",
    "encrypted_creditCard = encrypt(creditCard, cipher)\n",
    "\n",
    "# Output columns\n",
    "row6.Name = encrypted_name\n",
    "row6.CreditCard = encrypted_creditCard"
   ]
  }
 ],
 "metadata": {
  "kernelspec": {
   "display_name": "Python 3 (ipykernel)",
   "language": "python",
   "name": "python3"
  },
  "language_info": {
   "codemirror_mode": {
    "name": "ipython",
    "version": 3
   },
   "file_extension": ".py",
   "mimetype": "text/x-python",
   "name": "python",
   "nbconvert_exporter": "python",
   "pygments_lexer": "ipython3",
   "version": "3.11.3"
  },
  "vp": {
   "vp_config_version": "1.0.0",
   "vp_menu_width": 273,
   "vp_note_display": false,
   "vp_note_width": 0,
   "vp_position": {
    "width": 278
   },
   "vp_section_display": false,
   "vp_signature": "VisualPython"
  }
 },
 "nbformat": 4,
 "nbformat_minor": 5
}
